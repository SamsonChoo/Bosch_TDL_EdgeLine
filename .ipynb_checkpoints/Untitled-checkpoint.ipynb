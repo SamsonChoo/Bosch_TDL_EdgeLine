{
 "cells": [
  {
   "cell_type": "code",
   "execution_count": 89,
   "metadata": {},
   "outputs": [],
   "source": [
    "import paho.mqtt.client as mqtt\n",
    "import ssl, socket\n",
    "import json\n",
    "import time"
   ]
  },
  {
   "cell_type": "code",
   "execution_count": 90,
   "metadata": {},
   "outputs": [],
   "source": [
    "# The callback for when the client receives a CONNACK response from the server.\n",
    "def on_connect(client, userdata, rc, *extra_params):\n",
    "   print(('Connected with result code '+str(rc)))\n",
    "   # Subscribing in on_connect() means that if we lose the connection and\n",
    "   # reconnect then subscriptions will be renewed.\n",
    "   client.subscribe('v1/devices/me/attributes')\n",
    "   client.subscribe('v1/devices/me/attributes/response/+')\n",
    "   client.subscribe('v1/devices/me/rpc/request/+')\n",
    "\n",
    "\n",
    "# The callback for when a PUBLISH message is received from the server.\n",
    "def on_message(client, userdata, msg):\n",
    "   print('Topic: ' + msg.topic + '\\nMessage: ' + str(msg.payload))\n",
    "   if msg.topic.startswith( 'v1/devices/me/rpc/request/'):\n",
    "       requestId = msg.topic[len('v1/devices/me/rpc/request/'):len(msg.topic)]\n",
    "       print('This is a RPC call. RequestID: ' + requestId + '. Going to reply now!')\n",
    "       client.publish('v1/devices/me/rpc/response/' + requestId, \"{\\\"value1\\\":\\\"A\\\", \\\"value2\\\":\\\"B\\\"}\", 1)\n",
    "\n"
   ]
  },
  {
   "cell_type": "code",
   "execution_count": 105,
   "metadata": {},
   "outputs": [],
   "source": [
    "def upload(temperature_data, unix_timestamp, humidity_data, pressure_data):\n",
    "    json_array=[]\n",
    "    for i,w in enumerate(unix_timestamp):\n",
    "        json_array.append({\"ts\":str(w), \"values\":json.dumps({\"Bosch_temperature\":temperature_data[i],\"Bosch_humidity\":humidity_data[i],\"Bosch_pressure\":pressure_data[i]})})\n",
    "    json_data = json.dumps(json_array)\n",
    "    print(json_data)\n",
    "    client = mqtt.Client()\n",
    "    client.on_connect = on_connect\n",
    "    client.on_message = on_message\n",
    "    client.publish('v1/devices/me/attributes',str(json_data), 1)\n",
    "\n",
    "    client.tls_set(ca_certs=\"mqttserver.pub.pem\", certfile=\"mqttclient.nopass.pem\", keyfile=None, cert_reqs=ssl.CERT_REQUIRED,\n",
    "                           tls_version=ssl.PROTOCOL_TLSv1, ciphers=None);\n",
    "\n",
    "    client.tls_insecure_set(False)\n",
    "    client.connect('thingsboard', 8883, 1)\n",
    "\n",
    "\n",
    "    # Blocking call that processes network traffic, dispatches callbacks and\n",
    "    # handles reconnecting.\n",
    "    # Other loop*() functions are available that give a threaded interface and a\n",
    "    # manual interface.\n",
    "    client.loop_forever()"
   ]
  },
  {
   "cell_type": "code",
   "execution_count": 129,
   "metadata": {},
   "outputs": [],
   "source": [
    "def upload(temperature_data, unix_timestamp, humidity_data, pressure_data):\n",
    "    for i,w in enumerate(unix_timestamp):\n",
    "        json_array={\"Bosch_temperature\":temperature_data[i],\"Bosch_humidity\":humidity_data[i],\"Bosch_pressure\":pressure_data[i]}\n",
    "        json_data = json.dumps(json_array)\n",
    "        print(json_data)\n",
    "        client = mqtt.Client()\n",
    "        client.on_connect = on_connect\n",
    "        client.on_message = on_message\n",
    "        client.publish('v1/devices/me/attributes',str(json_data),1)\n",
    "\n",
    "        client.tls_set(ca_certs=\"mqttserver.pub.pem\", certfile=\"mqttclient.nopass.pem\", keyfile=None, cert_reqs=ssl.CERT_REQUIRED,\n",
    "                               tls_version=ssl.PROTOCOL_TLSv1, ciphers=None);\n",
    "\n",
    "        client.tls_insecure_set(False)\n",
    "        client.connect('thingsboard', 8883, 1)\n",
    "\n",
    "\n",
    "        # Blocking call that processes network traffic, dispatches callbacks and\n",
    "        # handles reconnecting.\n",
    "        # Other loop*() functions are available that give a threaded interface and a\n",
    "        # manual interface.\n",
    "        client.loop_forever()"
   ]
  },
  {
   "cell_type": "code",
   "execution_count": null,
   "metadata": {},
   "outputs": [
    {
     "name": "stdout",
     "output_type": "stream",
     "text": [
      "{\"Bosch_temperature\": \"t1\", \"Bosch_humidity\": \"h1\", \"Bosch_pressure\": \"p1\"}\n",
      "Connected with result code {'session present': 1}\n"
     ]
    }
   ],
   "source": [
    "upload(['t1','t2'], [1532042100,1532041800], ['h1','h2'], ['p1','p2'])"
   ]
  },
  {
   "cell_type": "code",
   "execution_count": null,
   "metadata": {},
   "outputs": [],
   "source": []
  }
 ],
 "metadata": {
  "kernelspec": {
   "display_name": "Python 3",
   "language": "python",
   "name": "python3"
  },
  "language_info": {
   "codemirror_mode": {
    "name": "ipython",
    "version": 3
   },
   "file_extension": ".py",
   "mimetype": "text/x-python",
   "name": "python",
   "nbconvert_exporter": "python",
   "pygments_lexer": "ipython3",
   "version": "3.6.5"
  }
 },
 "nbformat": 4,
 "nbformat_minor": 2
}
