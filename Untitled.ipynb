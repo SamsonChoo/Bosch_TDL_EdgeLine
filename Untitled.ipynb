{
 "cells": [
  {
   "cell_type": "code",
   "execution_count": 70,
   "metadata": {},
   "outputs": [],
   "source": [
    "import paho.mqtt.client as mqtt\n",
    "import ssl, socket\n",
    "import json\n",
    "import time"
   ]
  },
  {
   "cell_type": "code",
   "execution_count": 5,
   "metadata": {},
   "outputs": [],
   "source": [
    "# The callback for when the client receives a CONNACK response from the server.\n",
    "def on_connect(client, userdata, rc, *extra_params):\n",
    "   print(('Connected with result code '+str(rc)))\n",
    "   # Subscribing in on_connect() means that if we lose the connection and\n",
    "   # reconnect then subscriptions will be renewed.\n",
    "   client.subscribe('v1/devices/me/attributes')\n",
    "   client.subscribe('v1/devices/me/attributes/response/+')\n",
    "   client.subscribe('v1/devices/me/rpc/request/+')\n",
    "\n",
    "\n",
    "# The callback for when a PUBLISH message is received from the server.\n",
    "def on_message(client, userdata, msg):\n",
    "   print('Topic: ' + msg.topic + '\\nMessage: ' + str(msg.payload))\n",
    "   if msg.topic.startswith( 'v1/devices/me/rpc/request/'):\n",
    "       requestId = msg.topic[len('v1/devices/me/rpc/request/'):len(msg.topic)]\n",
    "       print('This is a RPC call. RequestID: ' + requestId + '. Going to reply now!')\n",
    "       client.publish('v1/devices/me/rpc/response/' + requestId, \"{\\\"value1\\\":\\\"A\\\", \\\"value2\\\":\\\"B\\\"}\", 1)\n",
    "\n"
   ]
  },
  {
   "cell_type": "code",
   "execution_count": 78,
   "metadata": {},
   "outputs": [],
   "source": [
    "def _payload(ts, v):\n",
    "    return \"{} {}\".format(ts, v)\n",
    "\n",
    "def upload(temperature_data, unix_timestamp, humidity_data, pressure_data):\n",
    "    json_array=[]\n",
    "    for i,w in enumerate(unix_timestamp):\n",
    "        json_array.append({\"ts\":str(w), \"values\":json.dumps({\"Bosch_temperature\":temperature_data[i],\"Bosch_humidity\":humidity_data[i],\"Bosch_pressure\":pressure_data[i]})})\n",
    "    json_data = json.dumps(json_array)\n",
    "    print(json_data)\n",
    "    client = mqtt.Client()\n",
    "    client.on_connect = on_connect\n",
    "    client.on_message = on_message\n",
    "    w = json.dumps({\"meow\":6})\n",
    "    client.publish('v1/devices/me/attributes',_payload(1532042100, w), 0)\n",
    "    \n",
    "    \n",
    "    print (_payload(1532042100, w))\n",
    "\n",
    "    client.tls_set(ca_certs=\"mqttserver.pub.pem\", certfile=\"mqttclient.nopass.pem\", keyfile=None, cert_reqs=ssl.CERT_REQUIRED,\n",
    "                           tls_version=ssl.PROTOCOL_TLSv1, ciphers=None);\n",
    "\n",
    "    client.tls_insecure_set(False)\n",
    "    client.connect('thingsboard', 8883, 1)\n",
    "\n",
    "\n",
    "    # Blocking call that processes network traffic, dispatches callbacks and\n",
    "    # handles reconnecting.\n",
    "    # Other loop*() functions are available that give a threaded interface and a\n",
    "    # manual interface.\n",
    "    client.loop_forever()"
   ]
  },
  {
   "cell_type": "code",
   "execution_count": null,
   "metadata": {},
   "outputs": [],
   "source": [
    "def upload(temperature_data, unix_timestamp, humidity_data, pressure_data):\n",
    "    for i,w in enumerate(unix_timestamp):\n",
    "        json_array={\"Bosch_temperature\":temperature_data[i],\"Bosch_humidity\":humidity_data[i],\"Bosch_pressure\":pressure_data[i]}\n",
    "        json_data = json.dumps(json_array)\n",
    "        print(json_data)\n",
    "        client = mqtt.Client()\n",
    "        client.on_connect = on_connect\n",
    "        client.on_message = on_message\n",
    "        client.publish('v1/devices/me/attributes',str(json_data), 1)\n",
    "\n",
    "        client.tls_set(ca_certs=\"mqttserver.pub.pem\", certfile=\"mqttclient.nopass.pem\", keyfile=None, cert_reqs=ssl.CERT_REQUIRED,\n",
    "                               tls_version=ssl.PROTOCOL_TLSv1, ciphers=None);\n",
    "\n",
    "        client.tls_insecure_set(False)\n",
    "        client.connect('thingsboard', 8883, 1)\n",
    "\n",
    "\n",
    "        # Blocking call that processes network traffic, dispatches callbacks and\n",
    "        # handles reconnecting.\n",
    "        # Other loop*() functions are available that give a threaded interface and a\n",
    "        # manual interface.\n",
    "#         client.loop_forever()"
   ]
  },
  {
   "cell_type": "code",
   "execution_count": 79,
   "metadata": {},
   "outputs": [
    {
     "name": "stdout",
     "output_type": "stream",
     "text": [
      "[{\"ts\": \"1532042100\", \"values\": \"{\\\"Bosch_temperature\\\": \\\"t1\\\", \\\"Bosch_humidity\\\": \\\"h1\\\", \\\"Bosch_pressure\\\": \\\"p1\\\"}\"}, {\"ts\": \"1532041800\", \"values\": \"{\\\"Bosch_temperature\\\": \\\"t2\\\", \\\"Bosch_humidity\\\": \\\"h2\\\", \\\"Bosch_pressure\\\": \\\"p2\\\"}\"}]\n",
      "1532042100 {\"meow\": 6}\n",
      "Connected with result code {'session present': 1}\n"
     ]
    },
    {
     "ename": "KeyboardInterrupt",
     "evalue": "",
     "output_type": "error",
     "traceback": [
      "\u001b[1;31m---------------------------------------------------------------------------\u001b[0m",
      "\u001b[1;31mKeyboardInterrupt\u001b[0m                         Traceback (most recent call last)",
      "\u001b[1;32m<ipython-input-79-16d420f00a58>\u001b[0m in \u001b[0;36m<module>\u001b[1;34m()\u001b[0m\n\u001b[1;32m----> 1\u001b[1;33m \u001b[0mupload\u001b[0m\u001b[1;33m(\u001b[0m\u001b[1;33m[\u001b[0m\u001b[1;34m't1'\u001b[0m\u001b[1;33m,\u001b[0m\u001b[1;34m't2'\u001b[0m\u001b[1;33m]\u001b[0m\u001b[1;33m,\u001b[0m \u001b[1;33m[\u001b[0m\u001b[1;36m1532042100\u001b[0m\u001b[1;33m,\u001b[0m\u001b[1;36m1532041800\u001b[0m\u001b[1;33m]\u001b[0m\u001b[1;33m,\u001b[0m \u001b[1;33m[\u001b[0m\u001b[1;34m'h1'\u001b[0m\u001b[1;33m,\u001b[0m\u001b[1;34m'h2'\u001b[0m\u001b[1;33m]\u001b[0m\u001b[1;33m,\u001b[0m \u001b[1;33m[\u001b[0m\u001b[1;34m'p1'\u001b[0m\u001b[1;33m,\u001b[0m\u001b[1;34m'p2'\u001b[0m\u001b[1;33m]\u001b[0m\u001b[1;33m)\u001b[0m\u001b[1;33m\u001b[0m\u001b[0m\n\u001b[0m",
      "\u001b[1;32m<ipython-input-78-abec6eb1dbab>\u001b[0m in \u001b[0;36mupload\u001b[1;34m(temperature_data, unix_timestamp, humidity_data, pressure_data)\u001b[0m\n\u001b[0;32m     28\u001b[0m     \u001b[1;31m# Other loop*() functions are available that give a threaded interface and a\u001b[0m\u001b[1;33m\u001b[0m\u001b[1;33m\u001b[0m\u001b[0m\n\u001b[0;32m     29\u001b[0m     \u001b[1;31m# manual interface.\u001b[0m\u001b[1;33m\u001b[0m\u001b[1;33m\u001b[0m\u001b[0m\n\u001b[1;32m---> 30\u001b[1;33m     \u001b[0mclient\u001b[0m\u001b[1;33m.\u001b[0m\u001b[0mloop_forever\u001b[0m\u001b[1;33m(\u001b[0m\u001b[1;33m)\u001b[0m\u001b[1;33m\u001b[0m\u001b[0m\n\u001b[0m",
      "\u001b[1;32m~\\AppData\\Local\\Programs\\Python\\Python36-32\\lib\\site-packages\\paho\\mqtt\\client.py\u001b[0m in \u001b[0;36mloop_forever\u001b[1;34m(self, timeout, max_packets, retry_first_connection)\u001b[0m\n\u001b[0;32m   1479\u001b[0m             \u001b[0mrc\u001b[0m \u001b[1;33m=\u001b[0m \u001b[0mMQTT_ERR_SUCCESS\u001b[0m\u001b[1;33m\u001b[0m\u001b[0m\n\u001b[0;32m   1480\u001b[0m             \u001b[1;32mwhile\u001b[0m \u001b[0mrc\u001b[0m \u001b[1;33m==\u001b[0m \u001b[0mMQTT_ERR_SUCCESS\u001b[0m\u001b[1;33m:\u001b[0m\u001b[1;33m\u001b[0m\u001b[0m\n\u001b[1;32m-> 1481\u001b[1;33m                 \u001b[0mrc\u001b[0m \u001b[1;33m=\u001b[0m \u001b[0mself\u001b[0m\u001b[1;33m.\u001b[0m\u001b[0mloop\u001b[0m\u001b[1;33m(\u001b[0m\u001b[0mtimeout\u001b[0m\u001b[1;33m,\u001b[0m \u001b[0mmax_packets\u001b[0m\u001b[1;33m)\u001b[0m\u001b[1;33m\u001b[0m\u001b[0m\n\u001b[0m\u001b[0;32m   1482\u001b[0m                 \u001b[1;31m# We don't need to worry about locking here, because we've\u001b[0m\u001b[1;33m\u001b[0m\u001b[1;33m\u001b[0m\u001b[0m\n\u001b[0;32m   1483\u001b[0m                 \u001b[1;31m# either called loop_forever() when in single threaded mode, or\u001b[0m\u001b[1;33m\u001b[0m\u001b[1;33m\u001b[0m\u001b[0m\n",
      "\u001b[1;32m~\\AppData\\Local\\Programs\\Python\\Python36-32\\lib\\site-packages\\paho\\mqtt\\client.py\u001b[0m in \u001b[0;36mloop\u001b[1;34m(self, timeout, max_packets)\u001b[0m\n\u001b[0;32m    986\u001b[0m         \u001b[0mrlist\u001b[0m \u001b[1;33m=\u001b[0m \u001b[1;33m[\u001b[0m\u001b[0mself\u001b[0m\u001b[1;33m.\u001b[0m\u001b[0m_sock\u001b[0m\u001b[1;33m,\u001b[0m \u001b[0mself\u001b[0m\u001b[1;33m.\u001b[0m\u001b[0m_sockpairR\u001b[0m\u001b[1;33m]\u001b[0m\u001b[1;33m\u001b[0m\u001b[0m\n\u001b[0;32m    987\u001b[0m         \u001b[1;32mtry\u001b[0m\u001b[1;33m:\u001b[0m\u001b[1;33m\u001b[0m\u001b[0m\n\u001b[1;32m--> 988\u001b[1;33m             \u001b[0msocklist\u001b[0m \u001b[1;33m=\u001b[0m \u001b[0mselect\u001b[0m\u001b[1;33m.\u001b[0m\u001b[0mselect\u001b[0m\u001b[1;33m(\u001b[0m\u001b[0mrlist\u001b[0m\u001b[1;33m,\u001b[0m \u001b[0mwlist\u001b[0m\u001b[1;33m,\u001b[0m \u001b[1;33m[\u001b[0m\u001b[1;33m]\u001b[0m\u001b[1;33m,\u001b[0m \u001b[0mtimeout\u001b[0m\u001b[1;33m)\u001b[0m\u001b[1;33m\u001b[0m\u001b[0m\n\u001b[0m\u001b[0;32m    989\u001b[0m         \u001b[1;32mexcept\u001b[0m \u001b[0mTypeError\u001b[0m\u001b[1;33m:\u001b[0m\u001b[1;33m\u001b[0m\u001b[0m\n\u001b[0;32m    990\u001b[0m             \u001b[1;31m# Socket isn't correct type, in likelihood connection is lost\u001b[0m\u001b[1;33m\u001b[0m\u001b[1;33m\u001b[0m\u001b[0m\n",
      "\u001b[1;31mKeyboardInterrupt\u001b[0m: "
     ]
    }
   ],
   "source": [
    "upload(['t1','t2'], [1532042100,1532041800], ['h1','h2'], ['p1','p2'])"
   ]
  },
  {
   "cell_type": "code",
   "execution_count": null,
   "metadata": {},
   "outputs": [],
   "source": []
  }
 ],
 "metadata": {
  "kernelspec": {
   "display_name": "Python 3",
   "language": "python",
   "name": "python3"
  },
  "language_info": {
   "codemirror_mode": {
    "name": "ipython",
    "version": 3
   },
   "file_extension": ".py",
   "mimetype": "text/x-python",
   "name": "python",
   "nbconvert_exporter": "python",
   "pygments_lexer": "ipython3",
   "version": "3.6.5"
  }
 },
 "nbformat": 4,
 "nbformat_minor": 2
}
